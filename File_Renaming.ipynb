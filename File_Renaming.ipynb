{
 "cells": [
  {
   "cell_type": "markdown",
   "metadata": {},
   "source": [
    "# Libraries"
   ]
  },
  {
   "cell_type": "code",
   "execution_count": 1,
   "metadata": {},
   "outputs": [],
   "source": [
    "## Directories\n",
    "import os"
   ]
  },
  {
   "cell_type": "markdown",
   "metadata": {},
   "source": [
    "## Rename photos"
   ]
  },
  {
   "cell_type": "markdown",
   "metadata": {},
   "source": [
    "### Define directorys"
   ]
  },
  {
   "cell_type": "code",
   "execution_count": 2,
   "metadata": {},
   "outputs": [],
   "source": [
    "# Define the main directory\n",
    "hand = 'Esquerda'\n",
    "main_directory = str( hand + \"\\Images_Folder\")\n",
    "\n",
    "# Define the subdirectories\n",
    "## Letters of the alphabet\n",
    "letters = ['A', 'B', 'C', 'D', 'E', 'F', 'G', 'H', 'I', 'J', 'K', 'L', 'M', 'N', 'O', 'P', 'Q', 'R', 'S', 'T', 'U', 'V', 'W', 'X', 'Y', 'Z']"
   ]
  },
  {
   "cell_type": "markdown",
   "metadata": {},
   "source": [
    "### Renaming"
   ]
  },
  {
   "cell_type": "code",
   "execution_count": 3,
   "metadata": {},
   "outputs": [],
   "source": [
    "test_letter_count = []\n",
    "total_letter_count = 0\n",
    " \n",
    "for letter in letters:\n",
    "    # Source directory for the letters\n",
    "    source_dir = os.path.join(main_directory, letter)\n",
    "\n",
    "    # List files in the source directory\n",
    "    files = os.listdir(source_dir)\n",
    "\n",
    "    # Move files to their respective destinations based on percentages\n",
    "    for i, file_name in enumerate(files):\n",
    "        old_file_name = os.path.join(source_dir, file_name)\n",
    "        new_file_name = os.path.join(source_dir, str(hand + \"_\"  + letter + \"_\" + str(i+1) + \".jpg\"))\n",
    "        os.rename(old_file_name,new_file_name)\n"
   ]
  }
 ],
 "metadata": {
  "kernelspec": {
   "display_name": "Python 3",
   "language": "python",
   "name": "python3"
  },
  "language_info": {
   "codemirror_mode": {
    "name": "ipython",
    "version": 3
   },
   "file_extension": ".py",
   "mimetype": "text/x-python",
   "name": "python",
   "nbconvert_exporter": "python",
   "pygments_lexer": "ipython3",
   "version": "3.11.5"
  }
 },
 "nbformat": 4,
 "nbformat_minor": 2
}
